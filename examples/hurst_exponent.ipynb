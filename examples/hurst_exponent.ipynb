{
 "cells": [
  {
   "cell_type": "markdown",
   "metadata": {},
   "source": [
    "# Hurst Exponent\n",
    "\n",
    "The mean reversion trading strategy is based on the assumption that the price of the asset will revert back to its mean. Without making the assumption on stationarity, the speed of diffusion (i.e. How fast the price diffuses from its initial value) can be used to determine whether the asset price time series is suitable for mean reversion trading.\n",
    "\n",
    "According to [Wikipedia](https://en.wikipedia.org/wiki/Hurst_exponent), the Hurst exponent is defined:\n",
    "$$E[\\frac{R(n)}{S(n)}] = Cn^H $$ \n",
    "$$\\text{As} \\space \\text{n} -> \\infty $$\n",
    "\n",
    "\n",
    "$$\\log (R/S)_{L_s} = \\log C + H \\log n$$\n",
    "\n",
    "To estimate this Hurst exponent (Skipping mathematical notes, notes can be foudn in the Wikipedia):\n",
    "\n",
    "For a subset time series of length n, $X = X_1, X_2, ..., X_n $, the rescaled range can be calculated as follows:\n",
    "1. Calculate the mean\n",
    "2. Create mean-adjusted series\n",
    "3. Calcualte the cumulative deviate series Z\n",
    "4. Compute the range R\n",
    "5. Compute the standard deviation S\n",
    "\n",
    "The Hurst exponent is estimated by fitting the linear line $\\log (R/S)_{L_s}$ as a function of $\\log n$\n",
    "\n",
    "In my code repository, the Hurst exponent estimation function is constructed as below:\n",
    "\n",
    "```python\n",
    "def get_hurst_exponent_rs(price: npt.NDArray[np.float_]) -> npt.NDArray[np.float_]:\n",
    "    \"\"\"\n",
    "    The function calculates the Hurst exponent using the R/S method for a given price\n",
    "    series.\n",
    "\n",
    "    Args:\n",
    "      price (npt.NDArray[np.float_]): The parameter \"price\" is expected to be a\n",
    "    1-dimensional numpy array of float values representing the price data.\n",
    "\n",
    "    Returns:\n",
    "      the Hurst exponent, which is calculated using the R/S method.\n",
    "    \"\"\"\n",
    "    ret = calculate_daily_return(price)[1:]\n",
    "    n = np.round(len(ret) / 2 ** np.arange(0, 10)).astype(int)\n",
    "\n",
    "    y = []\n",
    "    x = []\n",
    "\n",
    "    for i in n:\n",
    "        rs = []\n",
    "        for t in range(0, round(len(ret) / i)):\n",
    "            sub_ts = ret[t * i : (t + 1) * i]\n",
    "            mean_adjusted = sub_ts - np.mean(sub_ts)\n",
    "            cumul_mean_adjusted = np.cumsum(mean_adjusted)\n",
    "            r = np.max(cumul_mean_adjusted) - np.min(cumul_mean_adjusted)\n",
    "            s = np.std(sub_ts)\n",
    "            rs.append(r / s)\n",
    "        y.append(np.mean(rs))\n",
    "        x.append(i)\n",
    "\n",
    "    return np.polyfit(np.log(x), np.log(y), 1)[0]\n",
    "```"
   ]
  },
  {
   "cell_type": "code",
   "execution_count": 2,
   "metadata": {},
   "outputs": [
    {
     "name": "stdout",
     "output_type": "stream",
     "text": [
      "Hurst Exponent with R/S analysis: 0.5751560049347784\n"
     ]
    }
   ],
   "source": [
    "import yfinance as yf\n",
    "\n",
    "from py_quant.mean_reversion import hurst_exponent as he\n",
    "\n",
    "if __name__ == \"__main__\":\n",
    "    price = yf.download(\"CAD=X\", start=\"2007-07-24\", end=\"2012-03-28\", progress=False)[\n",
    "        \"Adj Close\"\n",
    "    ].to_numpy()\n",
    "\n",
    "    hurst_exponent1 = he.get_hurst_exponent_rs(price)\n",
    "    print(f\"Hurst Exponent with R/S analysis: {hurst_exponent1}\")"
   ]
  }
 ],
 "metadata": {
  "kernelspec": {
   "display_name": ".venv",
   "language": "python",
   "name": "python3"
  },
  "language_info": {
   "codemirror_mode": {
    "name": "ipython",
    "version": 3
   },
   "file_extension": ".py",
   "mimetype": "text/x-python",
   "name": "python",
   "nbconvert_exporter": "python",
   "pygments_lexer": "ipython3",
   "version": "3.9.13"
  },
  "orig_nbformat": 4
 },
 "nbformat": 4,
 "nbformat_minor": 2
}
